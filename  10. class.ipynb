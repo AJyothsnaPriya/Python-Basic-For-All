{
 "cells": [
  {
   "cell_type": "code",
   "execution_count": 17,
   "metadata": {},
   "outputs": [
    {
     "name": "stdout",
     "output_type": "stream",
     "text": [
      "[5, 2, 3, 4]\n"
     ]
    }
   ],
   "source": [
    "class pythno:\n",
    "    x= [5,2,3,4]\n",
    "    #print(x)\n",
    "p1 = pythno()\n",
    "print(p1.x)"
   ]
  },
  {
   "cell_type": "code",
   "execution_count": 20,
   "metadata": {},
   "outputs": [
    {
     "name": "stdout",
     "output_type": "stream",
     "text": [
      "helloWorld\n",
      "hello\n"
     ]
    }
   ],
   "source": [
    "class myclass:\n",
    "    x = \"hello\"\n",
    "    y = \"World\"\n",
    "    z = x+y\n",
    "v = myclass()\n",
    "print(v.z)\n",
    "print(v.x)"
   ]
  },
  {
   "cell_type": "code",
   "execution_count": 16,
   "metadata": {},
   "outputs": [
    {
     "name": "stdout",
     "output_type": "stream",
     "text": [
      "hello my name is john\n"
     ]
    }
   ],
   "source": [
    "class Person:\n",
    "    def __init__(self,name,age):\n",
    "        self.name = name\n",
    "        self.age = age\n",
    "    def myfunction(self):\n",
    "        print(\"hello my name is \" + self.name)\n",
    "        #print(\"My age is\" +self.age)\n",
    "p1 = Person (\"john\", 32)\n",
    "\n",
    "p1.myfunction()\n",
    "\n",
    "#print(p1.name)\n",
    "# print(p1.age)"
   ]
  }
 ],
 "metadata": {
  "kernelspec": {
   "display_name": "Python 3",
   "language": "python",
   "name": "python3"
  },
  "language_info": {
   "codemirror_mode": {
    "name": "ipython",
    "version": 3
   },
   "file_extension": ".py",
   "mimetype": "text/x-python",
   "name": "python",
   "nbconvert_exporter": "python",
   "pygments_lexer": "ipython3",
   "version": "3.6.0"
  }
 },
 "nbformat": 4,
 "nbformat_minor": 2
}
